{
 "cells": [
  {
   "cell_type": "code",
   "execution_count": 1,
   "metadata": {},
   "outputs": [],
   "source": [
    "# Dependencies\n",
    "from flask import Flask, render_template, redirect\n",
    "from flask_pymongo import PyMongo\n",
    "import pymongo\n",
    "#import scrape_mars\n",
    "from bs4 import BeautifulSoup as bs\n",
    "import requests\n",
    "from splinter import Browser\n",
    "import time \n",
    "from IPython import get_ipython\n",
    "import nbconvert"
   ]
  },
  {
   "cell_type": "code",
   "execution_count": 2,
   "metadata": {},
   "outputs": [],
   "source": [
    "# Create an instance of Flask\n",
    "app = Flask(__name__)"
   ]
  },
  {
   "cell_type": "code",
   "execution_count": 3,
   "metadata": {},
   "outputs": [],
   "source": [
    "# Use PyMongo to establish Mongo connection\n",
    "mongo = PyMongo(app, uri=\"mongodb://localhost:27017/mars_app\")"
   ]
  },
  {
   "cell_type": "code",
   "execution_count": 4,
   "metadata": {},
   "outputs": [
    {
     "name": "stdout",
     "output_type": "stream",
     "text": [
      "[{'title': \"\\nAlabama High School Student Names NASA's Mars Helicopter\\n\", 'description': \"\\nVaneeza Rupani's essay was chosen as the name for the small spacecraft, which will mark NASA's first attempt at powered flight on another planet.\\n\"}, {'title': \"\\nMars Helicopter Attached to NASA's Perseverance Rover\\n\", 'description': \"\\nThe team also fueled the rover's sky crane to get ready for this summer's history-making launch.\\n\"}, {'title': \"\\nNASA's Perseverance Mars Rover Gets Its Wheels and Air Brakes\\n\", 'description': '\\nAfter the rover was shipped from JPL to Kennedy Space Center, the team is getting closer to finalizing the spacecraft for launch later this summer.\\n'}, {'title': \"\\n10.9 Million Names Now Aboard NASA's Perseverance Mars Rover\\n\", 'description': \"\\nAs part of NASA's 'Send Your Name to Mars' campaign, they've been stenciled onto three microchips along with essays from NASA's 'Name the Rover' contest. Next stop: Mars.\\n\"}, {'title': \"\\nVirginia Middle School Student Earns Honor of Naming NASA's Next Mars Rover\\n\", 'description': '\\nNASA chose a seventh-grader from Virginia as winner of the agency\\'s \"Name the Rover\" essay contest. Alexander Mather\\'s entry for \"Perseverance\" was voted tops among 28,000 entries. \\n'}, {'title': '\\nNASA Prepares for Moon and Mars With New Addition to Its Deep Space Network\\n', 'description': '\\nRobotic spacecraft will be able to communicate with the dish using radio waves and lasers.\\n'}]\n",
      "--------\n",
      "\n",
      "Alabama High School Student Names NASA's Mars Helicopter\n",
      "\n",
      "\n",
      "Vaneeza Rupani's essay was chosen as the name for the small spacecraft, which will mark NASA's first attempt at powered flight on another planet.\n",
      "\n"
     ]
    }
   ],
   "source": [
    "# Scrape the [NASA Mars News Site](https://mars.nasa.gov/news/) and collect the latest \n",
    "# News Title and Paragraph Text. Assign the text to variables that you can reference later.\n",
    "\n",
    "mars_url = 'https://mars.nasa.gov/news/'\n",
    "\n",
    "response= requests.get(mars_url)\n",
    "\n",
    "soup = bs(response.text, 'html.parser')\n",
    "\n",
    "title_list = []\n",
    "p_list = []\n",
    "\n",
    "\n",
    "all_titles = soup.find_all('div', class_ = \"content_title\")\n",
    "all_p = soup.find_all('div', class_ = \"image_and_description_container\")\n",
    "\n",
    "mars_news = []\n",
    "for title in all_titles:\n",
    "    try:\n",
    "        mars_title = title.find('a').text\n",
    "        title_list.append(mars_title)\n",
    "    except AttributeError as e:\n",
    "        print(e)\n",
    "        \n",
    "        \n",
    "for paragraph in all_p:\n",
    "    try:\n",
    "        mars_p = paragraph.find('div', class_ = \"rollover_description_inner\").text\n",
    "        p_list.append(mars_p)\n",
    "    except AttributeError as e:\n",
    "        print(e)\n",
    "\n",
    "        \n",
    "for i in range(len(all_titles)):\n",
    "    mars_news.append({\"title\": title_list[i], \"description\": p_list[i]})\n",
    "    \n",
    "\n",
    "print(mars_news)\n",
    "print('--------')\n",
    "first_marsNews = mars_news[0]\n",
    "headline = first_marsNews['title']\n",
    "teaser = first_marsNews['description']\n",
    "print(headline)\n",
    "print(teaser)"
   ]
  },
  {
   "cell_type": "code",
   "execution_count": 5,
   "metadata": {},
   "outputs": [],
   "source": [
    "#Visit the url for JPL  Space Image [here](https://www.jpl.nasa.gov/spaceimages/?search=&category=Mars).\n",
    "#Use splinter to navigate the site and find the image url for the current  Mars Image and assign the \n",
    "#url string to a variable called `_image_url`.\n",
    "\n",
    "executable_path = {'executable_path': 'chromedriver.exe'}\n",
    "browser = Browser('chrome', **executable_path, headless=False)\n",
    "\n",
    "marsImage_url = 'https://www.jpl.nasa.gov/spaceimages/?search=&category=Mars'\n",
    "\n",
    "browser.visit(marsImage_url)\n",
    "\n",
    "img_button = browser.find_by_id(\"full_image\")\n",
    "img_button.click()\n",
    "time.sleep(3)\n",
    "moreInfo_button = browser.find_by_text(\"more info     \")\n",
    "moreInfo_button.click()\n",
    "\n",
    "\n",
    "\n",
    "\n"
   ]
  },
  {
   "cell_type": "code",
   "execution_count": 6,
   "metadata": {
    "scrolled": true
   },
   "outputs": [
    {
     "name": "stdout",
     "output_type": "stream",
     "text": [
      "https://www.jpl.nasa.gov/spaceimages/images/largesize/PIA17200_hires.jpg\n"
     ]
    }
   ],
   "source": [
    "html = browser.html\n",
    "\n",
    "full_img = bs(html, \"html.parser\")\n",
    "\n",
    "full_img_link = full_img.find('figure')\n",
    "img_url = \"https://www.jpl.nasa.gov\" + full_img_link.a.img['src']\n",
    "\n",
    "print(img_url)"
   ]
  },
  {
   "cell_type": "code",
   "execution_count": 7,
   "metadata": {
    "scrolled": true
   },
   "outputs": [
    {
     "name": "stdout",
     "output_type": "stream",
     "text": [
      "Lovely view of Gale Crater right in the middle of this. \n"
     ]
    }
   ],
   "source": [
    "#Visit the Mars Weather twitter account [here](https://twitter.com/marswxreport?lang=en) and scrape the latest Mars\n",
    "# weather tweet from the page. Save the tweet text for the weather report as a variable called `mars_weather`.\n",
    "\n",
    "executable_path = {'executable_path': 'chromedriver.exe'}\n",
    "browser = Browser('chrome', **executable_path, headless=False)\n",
    "\n",
    "marsWeather_url = 'https://twitter.com/marswxreport?lang=en'\n",
    "\n",
    "browser.visit(marsWeather_url)\n",
    "time.sleep(3)\n",
    "html = browser.html\n",
    "tweet_soup = bs(html, 'html.parser')\n",
    "\n",
    "mars_weather_tweet = tweet_soup.find('div', attrs={\"class\": \"css-901oao r-hkyrab r-1qd0xha r-a023e6 r-16dba41 r-ad9z0x r-bcqeeo r-bnwqim r-qvutc0\"})\n",
    "mars_weather_tweet2 = mars_weather_tweet.find('')\n",
    "\n",
    "#print(tweet_soup)\n",
    "print(mars_weather_tweet.text)\n"
   ]
  },
  {
   "cell_type": "code",
   "execution_count": 8,
   "metadata": {
    "scrolled": true
   },
   "outputs": [
    {
     "data": {
      "text/plain": [
       "{'value': {'Equatorial Diameter:': '6,792 km',\n",
       "  'Polar Diameter:': '6,752 km',\n",
       "  'Mass:': '6.39 × 10^23 kg (0.11 Earths)',\n",
       "  'Moons:': '2 (Phobos & Deimos)',\n",
       "  'Orbit Distance:': '227,943,824 km (1.38 AU)',\n",
       "  'Orbit Period:': '687 days (1.9 years)',\n",
       "  'Surface Temperature:': '-87 to -5 °C',\n",
       "  'First Record:': '2nd millennium BC',\n",
       "  'Recorded By:': 'Egyptian astronomers'}}"
      ]
     },
     "execution_count": 8,
     "metadata": {},
     "output_type": "execute_result"
    }
   ],
   "source": [
    "# Visit the Mars Facts webpage [here](https://space-facts.com/mars/) and use Pandas to scrape the table containing facts about the planet including Diameter, Mass, etc.\n",
    "# Use Pandas to convert the data to a HTML table string.\n",
    "import pandas as pd\n",
    "mars_df = pd.read_html('https://space-facts.com/mars/')[0]\n",
    "\n",
    "\n",
    "\n",
    "mars_df.columns=['description', 'value']\n",
    "mars_df.set_index('description', inplace=True)\n",
    "\n",
    "\n",
    "\n",
    "# Example: db.collection.insert_many(df.to_dict('records'))\n",
    "\n",
    "# mars_tableCol.insert_many(mars_df.to_dict('description'))\n",
    "\n",
    "mars_df2 = mars_df.to_dict('description')\n",
    "\n",
    "\n",
    "mars_df2"
   ]
  },
  {
   "cell_type": "code",
   "execution_count": 9,
   "metadata": {},
   "outputs": [],
   "source": [
    "# Visit the USGS Astrogeology site \n",
    "#[here](https://astrogeology.usgs.gov/search/results?q=hemisphere+enhanced&k1=target&v1=Mars) \n",
    "#to obtain high resolution images for each of Mar's hemispheres.\n",
    "#You will need to click each of the links to the hemispheres in order to find the image url to the full resolution image.\n",
    "#Save both the image url string for the full resolution hemisphere image, and the Hemisphere title containing the \n",
    "#hemisphere name. Use a Python dictionary to store the data using the keys `img_url` and `title`.\n",
    "#Append the dictionary with the image url string and the hemisphere title to a list. This list will contain one dictionary \n",
    "#for each hemisphere."
   ]
  },
  {
   "cell_type": "code",
   "execution_count": null,
   "metadata": {},
   "outputs": [],
   "source": []
  },
  {
   "cell_type": "code",
   "execution_count": 10,
   "metadata": {},
   "outputs": [
    {
     "name": "stderr",
     "output_type": "stream",
     "text": [
      "C:\\Users\\Joseph\\Anaconda3\\lib\\site-packages\\splinter\\driver\\webdriver\\__init__.py:536: FutureWarning: browser.find_link_by_text is deprecated. Use browser.links.find_by_text instead.\n",
      "  FutureWarning,\n"
     ]
    },
    {
     "name": "stdout",
     "output_type": "stream",
     "text": [
      "<splinter.element_list.ElementList object at 0x0000020581BD0248>\n",
      "--------------------\n",
      "[{'img_url': 'http://astropedia.astrogeology.usgs.gov/download/Mars/Viking/cerberus_enhanced.tif/full.jpg', 'title': 'Cerberus Hemisphere Enhanced'}, {'img_url': 'http://astropedia.astrogeology.usgs.gov/download/Mars/Viking/schiaparelli_enhanced.tif/full.jpg', 'title': 'Schiaparelli Hemisphere Enhanced'}, {'img_url': 'http://astropedia.astrogeology.usgs.gov/download/Mars/Viking/syrtis_major_enhanced.tif/full.jpg', 'title': 'Syrtis Major Hemisphere Enhanced'}, {'img_url': 'http://astropedia.astrogeology.usgs.gov/download/Mars/Viking/valles_marineris_enhanced.tif/full.jpg', 'title': 'Valles Marineris Hemisphere Enhanced'}]\n",
      "--------------------\n",
      "{'img_url': 'http://astropedia.astrogeology.usgs.gov/download/Mars/Viking/cerberus_enhanced.tif/full.jpg', 'title': 'Cerberus Hemisphere Enhanced'}\n",
      "--------------------\n",
      "http://astropedia.astrogeology.usgs.gov/download/Mars/Viking/cerberus_enhanced.tif/full.jpg\n",
      "http://astropedia.astrogeology.usgs.gov/download/Mars/Viking/schiaparelli_enhanced.tif/full.jpg\n",
      "http://astropedia.astrogeology.usgs.gov/download/Mars/Viking/syrtis_major_enhanced.tif/full.jpg\n",
      "http://astropedia.astrogeology.usgs.gov/download/Mars/Viking/valles_marineris_enhanced.tif/full.jpg\n"
     ]
    }
   ],
   "source": [
    "executable_path = {'executable_path': 'chromedriver.exe'}\n",
    "browser = Browser('chrome', **executable_path, headless=False)\n",
    "\n",
    "marsHemispheres_url = 'https://astrogeology.usgs.gov/search/results?q=hemisphere+enhanced&k1=target&v1=Mars'\n",
    "\n",
    "browser.visit(marsHemispheres_url)\n",
    "time.sleep(3)\n",
    "\n",
    "hemisphere_image_urls = []\n",
    "\n",
    "hemisphereImagelinks = browser.find_by_css(\"a.product-item h3\")\n",
    "\n",
    "for i in range(len(hemisphereImagelinks)):\n",
    "    hemisphere = {}\n",
    "    \n",
    "    browser.find_by_css(\"a.product-item h3\")[i].click()\n",
    "   \n",
    "    sample = browser.find_link_by_text('Sample').first\n",
    "    \n",
    "    hemisphere['img_url'] = sample['href']\n",
    "    \n",
    "    # Scrape Hemisphere title\n",
    "    hemisphere['title'] = browser.find_by_css(\"h2.title\").text\n",
    "    \n",
    "    # Append hemisphere to hemisphere list\n",
    "    \n",
    "    hemisphere_image_urls.append(hemisphere)\n",
    "    \n",
    "    browser.back()\n",
    "    \n",
    "    \n",
    "print(hemisphereImagelinks)\n",
    "print('--------------------')\n",
    "print(hemisphere_image_urls)\n",
    "print('--------------------')\n",
    "print(hemisphere_image_urls[0])\n",
    "print('--------------------')\n",
    "print(hemisphere_image_urls[0]['img_url'])\n",
    "print(hemisphere_image_urls[1]['img_url'])\n",
    "print(hemisphere_image_urls[2]['img_url'])\n",
    "print(hemisphere_image_urls[3]['img_url'])"
   ]
  },
  {
   "cell_type": "code",
   "execution_count": 11,
   "metadata": {},
   "outputs": [
    {
     "name": "stderr",
     "output_type": "stream",
     "text": [
      "C:\\Users\\Joseph\\Anaconda3\\lib\\site-packages\\ipykernel_launcher.py:13: DeprecationWarning: update is deprecated. Use replace_one, update_one or update_many instead.\n",
      "  del sys.path[0]\n"
     ]
    },
    {
     "data": {
      "text/plain": [
       "{'n': 1, 'nModified': 1, 'ok': 1.0, 'updatedExisting': True}"
      ]
     },
     "execution_count": 11,
     "metadata": {},
     "output_type": "execute_result"
    }
   ],
   "source": [
    "scrapedata = {}\n",
    "scrapedata['headline']=headline\n",
    "scrapedata['teaser']=teaser\n",
    "scrapedata['weather']= mars_weather_tweet.text\n",
    "scrapedata['featureimage']= img_url\n",
    "scrapedata['marsfacts']= mars_df2\n",
    "scrapedata['pics'] = hemisphere_image_urls\n",
    "    \n",
    "\n",
    "myclient = pymongo.MongoClient(\"mongodb://localhost:27017/\")\n",
    "mydb = myclient[\"scrapeMars_DB\"]\n",
    "collection = mydb.mars_collection\n",
    "collection.update({}, scrapedata, upsert=True)"
   ]
  },
  {
   "cell_type": "code",
   "execution_count": null,
   "metadata": {},
   "outputs": [],
   "source": []
  },
  {
   "cell_type": "code",
   "execution_count": null,
   "metadata": {},
   "outputs": [],
   "source": []
  },
  {
   "cell_type": "code",
   "execution_count": null,
   "metadata": {},
   "outputs": [],
   "source": []
  },
  {
   "cell_type": "code",
   "execution_count": null,
   "metadata": {},
   "outputs": [],
   "source": []
  },
  {
   "cell_type": "code",
   "execution_count": null,
   "metadata": {},
   "outputs": [],
   "source": []
  },
  {
   "cell_type": "code",
   "execution_count": null,
   "metadata": {},
   "outputs": [],
   "source": []
  }
 ],
 "metadata": {
  "kernelspec": {
   "display_name": "Python 3",
   "language": "python",
   "name": "python3"
  },
  "language_info": {
   "codemirror_mode": {
    "name": "ipython",
    "version": 3
   },
   "file_extension": ".py",
   "mimetype": "text/x-python",
   "name": "python",
   "nbconvert_exporter": "python",
   "pygments_lexer": "ipython3",
   "version": "3.7.4"
  }
 },
 "nbformat": 4,
 "nbformat_minor": 2
}
